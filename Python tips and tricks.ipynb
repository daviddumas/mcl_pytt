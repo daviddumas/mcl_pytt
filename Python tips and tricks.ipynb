{
 "cells": [
  {
   "cell_type": "markdown",
   "metadata": {
    "collapsed": false
   },
   "source": [
    "# Python tips and tricks\n",
    "MCL Tutorial / Spring 2016 / David Dumas <david@dumas.io>\n",
    "\n",
    "## Inspired by / see also\n",
    "\n",
    "* R. Hettinger's PyCon 2013 presentation \"Transforming code into Beautiful, Idiomatic Python\"\n",
    "\n",
    "  * [slides](https://speakerdeck.com/pyconslides/transforming-code-into-beautiful-idiomatic-python-by-raymond-hettinger-1)\n",
    "  * [video](http://www.youtube.com/watch?v=OSGv2VnC0go)\n",
    "  * [notes & code as github repo, by Jeff Paine](https://gist.github.com/JeffPaine/6213790)\n",
    "* D. Beazley and B. Jones, _Python Cookbook_, 3ed.  O'Reilly, 2013.\n",
    "  * [O'Reilly page](http://shop.oreilly.com/product/0636920027072.do)\n",
    "  * [Amazon](http://www.amazon.com/Python-Cookbook-Third-David-Beazley/dp/1449340377)\n",
    "  \n",
    "## Warning\n",
    "\n",
    "This presentation is about Python 3.  Most of the tips apply to Python 2, sometimes requiring minor changes to syntax or names.\n",
    "\n",
    "However, let's be clear:  Python 3 is the present and the future.  Python 2 is the past.  Use Python 3.\n",
    "\n",
    "*Python 2 is the Windows XP of the Python world.*"
   ]
  },
  {
   "cell_type": "markdown",
   "metadata": {},
   "source": [
    "---\n",
    "## Python delivered, free\n",
    "\n",
    "* [Sage Math Cloud](cloud.sagemath.com)\n",
    "* [PythonAnywhere](https://www.pythonanywhere.com/)\n",
    "\n",
    "## Takeout\n",
    "\n",
    "* [Anaconda](https://www.continuum.io/downloads) -- Python + many common scientific libraries, packaged for easy installation on Windows, Mac, Linux.  Easiest way for most users to go to from \"zero to python\" in a few minutes.\n",
    "* [Official installers](https://www.python.org/downloads/) from `python.org`"
   ]
  },
  {
   "cell_type": "markdown",
   "metadata": {},
   "source": [
    "---\n",
    "# Use the iterator protocol\n",
    "\n",
    "If `range()` and `len()` appear regularly in your code, there is probably a better way!"
   ]
  },
  {
   "cell_type": "code",
   "execution_count": null,
   "metadata": {
    "collapsed": false
   },
   "outputs": [],
   "source": [
    "L = ['lion','zebra','bear','asp']\n",
    "\n",
    "# Don't do this\n",
    "for i in range(len(L)):\n",
    "    print(L[i])"
   ]
  },
  {
   "cell_type": "code",
   "execution_count": null,
   "metadata": {
    "collapsed": false
   },
   "outputs": [],
   "source": [
    "# Instead, do this\n",
    "for x in L:\n",
    "    print(x)"
   ]
  },
  {
   "cell_type": "code",
   "execution_count": null,
   "metadata": {
    "collapsed": false,
    "scrolled": false
   },
   "outputs": [],
   "source": [
    "# Better yet\n",
    "zoo = ['lion','zebra','bear','asp']\n",
    "for animal in zoo:\n",
    "    print(animal)"
   ]
  },
  {
   "cell_type": "markdown",
   "metadata": {},
   "source": [
    "Advantage: **for object in collection** is flexible, expresses intent, avoids need for index variable"
   ]
  },
  {
   "cell_type": "code",
   "execution_count": null,
   "metadata": {
    "collapsed": false
   },
   "outputs": [],
   "source": [
    "# works for unordered collections, too\n",
    "teams = { 'White Sox', 'Cubs' ,'Yankees','Red Sox'} # this is a set\n",
    "for t in teams:\n",
    "    print(t)"
   ]
  },
  {
   "cell_type": "markdown",
   "metadata": {},
   "source": [
    "---\n",
    "# Aside: `set`, an unordered collection of distinct elements"
   ]
  },
  {
   "cell_type": "code",
   "execution_count": null,
   "metadata": {
    "collapsed": false
   },
   "outputs": [],
   "source": [
    "L = [1,2,3,3,3]\n",
    "set(L)  # set constructed from a list"
   ]
  },
  {
   "cell_type": "code",
   "execution_count": null,
   "metadata": {
    "collapsed": false
   },
   "outputs": [],
   "source": [
    "type({})    # empty dict"
   ]
  },
  {
   "cell_type": "code",
   "execution_count": null,
   "metadata": {
    "collapsed": false
   },
   "outputs": [],
   "source": [
    "type(set())  # empty set"
   ]
  },
  {
   "cell_type": "code",
   "execution_count": null,
   "metadata": {
    "collapsed": false
   },
   "outputs": [],
   "source": [
    "A = {1,2,3,3,999}\n",
    "B = {4,5,6,6,999}\n",
    "A | B  # union"
   ]
  },
  {
   "cell_type": "code",
   "execution_count": null,
   "metadata": {
    "collapsed": false
   },
   "outputs": [],
   "source": [
    "A & B  # intersection"
   ]
  },
  {
   "cell_type": "code",
   "execution_count": null,
   "metadata": {
    "collapsed": false
   },
   "outputs": [],
   "source": [
    "A - B  # difference"
   ]
  },
  {
   "cell_type": "markdown",
   "metadata": {},
   "source": [
    "These overloaded operators (|, &, -) are shorthand for calling methods of the set object.  However, calling the methods directly has an advantage: They can take the union, difference, etc. with *any iterable*."
   ]
  },
  {
   "cell_type": "code",
   "execution_count": null,
   "metadata": {
    "collapsed": false
   },
   "outputs": [],
   "source": [
    "#  A | [7,8,9]   # -> TypeError\n",
    "#  A & [7,8,9]   # -> TypeError\n",
    "#  A - [7,8,9]   # -> TypeError\n",
    "A.union( [7,8,9] )\n",
    "A.intersection( [7,8,9] )\n",
    "A.difference( [7,8,9] )"
   ]
  },
  {
   "cell_type": "markdown",
   "metadata": {},
   "source": [
    "There are also methods to modify (mutate) the set object itself, e.g. union becomes \"update\"."
   ]
  },
  {
   "cell_type": "code",
   "execution_count": null,
   "metadata": {
    "collapsed": false
   },
   "outputs": [],
   "source": [
    "S = {'alpha', 'gamma'}\n",
    "S.update( {'beta'} )    # equivalent to S = S | {'beta'}\n",
    "S"
   ]
  },
  {
   "cell_type": "markdown",
   "metadata": {},
   "source": [
    "---\n",
    "# Back to iteration.\n",
    "\n",
    "# If you really need the index: `enumerate`"
   ]
  },
  {
   "cell_type": "code",
   "execution_count": null,
   "metadata": {
    "collapsed": false
   },
   "outputs": [],
   "source": [
    "L = ['lion','zebra','bear','asp']\n",
    "\n",
    "# Ask for it\n",
    "for i,x in enumerate(L):\n",
    "    print('Animal with index {} is: {}'.format(i,x))"
   ]
  },
  {
   "cell_type": "markdown",
   "metadata": {},
   "source": [
    "---\n",
    "# Iterating over sorted collection:  `sorted`"
   ]
  },
  {
   "cell_type": "code",
   "execution_count": null,
   "metadata": {
    "collapsed": false
   },
   "outputs": [],
   "source": [
    "L = ['lion','zebra','bear','asp']\n",
    "\n",
    "for x in sorted(L):\n",
    "    print(x)"
   ]
  },
  {
   "cell_type": "markdown",
   "metadata": {},
   "source": [
    "---\n",
    "# Custom sort: `key`\n",
    "\n",
    "`key` is an optional keyword parameter of sorted, is applied to each element of L before comparisons"
   ]
  },
  {
   "cell_type": "code",
   "execution_count": null,
   "metadata": {
    "collapsed": false,
    "scrolled": true
   },
   "outputs": [],
   "source": [
    "L = ['lion','zebra','bear','asp']\n",
    "\n",
    "print('Animals by length of name:')\n",
    "for x in sorted(L,key=len):\n",
    "    print(x)\n",
    "\n",
    "    \n",
    "print('\\nAnimals by number of \"e\"s:')\n",
    "num_e = lambda s:s.count('e')\n",
    "for x in sorted(L,key=num_e):\n",
    "    print(x)"
   ]
  },
  {
   "cell_type": "markdown",
   "metadata": {},
   "source": [
    "## Also operating on iterables (lists, sets, etc):\n",
    "\n",
    "* `all` : cast to boolean and take logical and\n",
    "* `any` : cast to boolean and take logical or\n",
    "* `min`, `max` : These accept `key`, like `sorted`\n",
    "* `sum`"
   ]
  },
  {
   "cell_type": "markdown",
   "metadata": {
    "collapsed": true
   },
   "source": [
    "---\n",
    "# Iterating over dictionaries"
   ]
  },
  {
   "cell_type": "code",
   "execution_count": null,
   "metadata": {
    "collapsed": false
   },
   "outputs": [],
   "source": [
    "d = {'a': 1, 'b': 2, 'c': 8675309}\n",
    "\n",
    "for k in d:    # iterates over KEYS\n",
    "    print(k)"
   ]
  },
  {
   "cell_type": "code",
   "execution_count": null,
   "metadata": {
    "collapsed": false,
    "scrolled": true
   },
   "outputs": [],
   "source": [
    "d = {'a': 1, 'b': 2, 'c': 8675309}\n",
    "\n",
    "for k in d:\n",
    "    print(d[k])"
   ]
  },
  {
   "cell_type": "markdown",
   "metadata": {},
   "source": [
    "If you really want keys and values together: `items()`"
   ]
  },
  {
   "cell_type": "code",
   "execution_count": null,
   "metadata": {
    "collapsed": false
   },
   "outputs": [],
   "source": [
    "d = {'a': 1, 'b': 2, 'c': 8675309}\n",
    "\n",
    "for k,v in d.items():\n",
    "    print(k,'->',v)"
   ]
  },
  {
   "cell_type": "markdown",
   "metadata": {},
   "source": [
    "Related: Testing membership tests **keys**"
   ]
  },
  {
   "cell_type": "code",
   "execution_count": null,
   "metadata": {
    "collapsed": false
   },
   "outputs": [],
   "source": [
    "d = {'a': 1, 'b': 2, 'c': 8675309}\n",
    "\n",
    "8675309 in d"
   ]
  },
  {
   "cell_type": "markdown",
   "metadata": {},
   "source": [
    "---\n",
    "# Extended slice syntax"
   ]
  },
  {
   "cell_type": "code",
   "execution_count": null,
   "metadata": {
    "collapsed": true
   },
   "outputs": [],
   "source": [
    "L = ['Mathematical','science','is','in','my',\n",
    "     'opinion','an','indivisible','whole']"
   ]
  },
  {
   "cell_type": "code",
   "execution_count": null,
   "metadata": {
    "collapsed": false
   },
   "outputs": [],
   "source": [
    "L[0]  # First element"
   ]
  },
  {
   "cell_type": "code",
   "execution_count": null,
   "metadata": {
    "collapsed": false
   },
   "outputs": [],
   "source": [
    "L[-1] # Last element"
   ]
  },
  {
   "cell_type": "code",
   "execution_count": null,
   "metadata": {
    "collapsed": false
   },
   "outputs": [],
   "source": [
    "L[:-1] # All elements except the last (drop one from the end)"
   ]
  },
  {
   "cell_type": "code",
   "execution_count": null,
   "metadata": {
    "collapsed": false
   },
   "outputs": [],
   "source": [
    "L[2:-1] # Drop two from the start, one from the end"
   ]
  },
  {
   "cell_type": "code",
   "execution_count": null,
   "metadata": {
    "collapsed": false
   },
   "outputs": [],
   "source": [
    "L[::2] # Every other element (steps of 2)"
   ]
  },
  {
   "cell_type": "code",
   "execution_count": null,
   "metadata": {
    "collapsed": false,
    "scrolled": true
   },
   "outputs": [],
   "source": [
    "L[::-1] # Reversed list (steps of -1)"
   ]
  },
  {
   "cell_type": "code",
   "execution_count": null,
   "metadata": {
    "collapsed": false
   },
   "outputs": [],
   "source": [
    "L[-2:1:-1] # Reversed list, except first and last elements"
   ]
  },
  {
   "cell_type": "markdown",
   "metadata": {},
   "source": [
    "---\n",
    "# Use tuple unpacking"
   ]
  },
  {
   "cell_type": "code",
   "execution_count": null,
   "metadata": {
    "collapsed": false
   },
   "outputs": [],
   "source": [
    "f = (34,8812,'Anne Example')  # Maybe this came from a file or database query\n",
    "age = f[0]\n",
    "idnum = f[1]\n",
    "name = f[2]\n",
    "\n",
    "name"
   ]
  },
  {
   "cell_type": "code",
   "execution_count": null,
   "metadata": {
    "collapsed": false
   },
   "outputs": [],
   "source": [
    "# Better\n",
    "age, idnum, name = (34,8812,'Anne Example')\n",
    "\n",
    "name"
   ]
  },
  {
   "cell_type": "markdown",
   "metadata": {},
   "source": [
    "---\n",
    "# List and generator comprehensions"
   ]
  },
  {
   "cell_type": "code",
   "execution_count": null,
   "metadata": {
    "collapsed": false
   },
   "outputs": [],
   "source": [
    "# Squares of integers congruent to 2 mod 7\n",
    "[ x*x for x in range(100) if x % 7 == 2 ]"
   ]
  },
  {
   "cell_type": "code",
   "execution_count": null,
   "metadata": {
    "collapsed": false
   },
   "outputs": [],
   "source": [
    "( x*x for x in range(100) if x % 7 == 2 )"
   ]
  },
  {
   "cell_type": "code",
   "execution_count": null,
   "metadata": {
    "collapsed": false
   },
   "outputs": [],
   "source": [
    "# Generate the whole list, then iterate over it\n",
    "for y in [ x*x for x in range(100) if x % 7 == 2 ]:\n",
    "    print(y)"
   ]
  },
  {
   "cell_type": "code",
   "execution_count": null,
   "metadata": {
    "collapsed": false
   },
   "outputs": [],
   "source": [
    "# Generate elements one by one, run loop body as they are produced\n",
    "for y in ( x*x for x in range(100) if x % 7 == 2 ):\n",
    "    print(y)"
   ]
  },
  {
   "cell_type": "markdown",
   "metadata": {},
   "source": [
    "Generators are instances.  They can be assigned.  However, they are single-use."
   ]
  },
  {
   "cell_type": "code",
   "execution_count": null,
   "metadata": {
    "collapsed": false,
    "scrolled": true
   },
   "outputs": [],
   "source": [
    "G = ( x*x for x in range(100) if x % 7 == 2 )\n",
    "for x in G:\n",
    "    print('foo')\n",
    "for x in G:  # Iteration already ended; will not run\n",
    "    print('bar')"
   ]
  },
  {
   "cell_type": "markdown",
   "metadata": {},
   "source": [
    "A function which creates and returns a list can often be replaced by a generator.\n",
    "Statement `yield x` replaces \"append x to the list we will later return\"."
   ]
  },
  {
   "cell_type": "markdown",
   "metadata": {},
   "source": [
    "---\n",
    "# Gems from the `collections` module"
   ]
  },
  {
   "cell_type": "markdown",
   "metadata": {},
   "source": [
    "## `namedtuple`:  creates a class which behaves like a `tuple` (immutable ordered collection), but whose entries have names as well as indices."
   ]
  },
  {
   "cell_type": "code",
   "execution_count": null,
   "metadata": {
    "collapsed": false
   },
   "outputs": [],
   "source": [
    "from collections import namedtuple\n",
    "\n",
    "PersonDatum = namedtuple('PersonDatum',['age','idnum','name'])\n",
    "\n",
    "F = PersonDatum(34,8812,'Anne Example')\n",
    "F"
   ]
  },
  {
   "cell_type": "code",
   "execution_count": null,
   "metadata": {
    "collapsed": false
   },
   "outputs": [],
   "source": [
    "print(F.age)\n",
    "print(F.idnum)\n",
    "print(F.name)"
   ]
  },
  {
   "cell_type": "markdown",
   "metadata": {},
   "source": [
    "Alternative: A dict with keys 'age', 'idnum', 'name'.  *How to choose?*\n",
    "\n",
    "* A dict is not a bad choice.\n",
    "* Use `namedtuple` when the keys/attributes are **fixed** and will available in a fixed **order**."
   ]
  },
  {
   "cell_type": "markdown",
   "metadata": {},
   "source": [
    "## `defaultdict`: a dictionary where missing keys are assigned a default value on first use\n",
    "\n",
    "Example: quick word length histogram"
   ]
  },
  {
   "cell_type": "code",
   "execution_count": null,
   "metadata": {
    "collapsed": false
   },
   "outputs": [],
   "source": [
    "# Instead of this...\n",
    "counts = {}\n",
    "L = ['Mathematical','science','is','in','my',\n",
    "     'opinion','an','indivisible','whole']\n",
    "\n",
    "for word in L:\n",
    "    n = len(word)\n",
    "    if n not in counts:\n",
    "        counts[n] = 0\n",
    "    counts[n] += 1\n",
    "\n",
    "for l,count in counts.items():\n",
    "    print(count,'words of length',l)"
   ]
  },
  {
   "cell_type": "code",
   "execution_count": null,
   "metadata": {
    "collapsed": false
   },
   "outputs": [],
   "source": [
    "# A defaultdict makes it a bit cleaner\n",
    "from collections import defaultdict\n",
    "counts = defaultdict(int)\n",
    "L = ['Mathematical','science','is','in','my',\n",
    "     'opinion','an','indivisible','whole']\n",
    "\n",
    "for word in L:\n",
    "    n = len(word)\n",
    "    counts[n] += 1\n",
    "\n",
    "for l,count in counts.items():\n",
    "    print(count,'words of length',l)"
   ]
  },
  {
   "cell_type": "markdown",
   "metadata": {},
   "source": [
    "Passing `int` as the parameter to `defaultdict` means that `int()` is called to generate a new value when an unknown key is accessed.  Since `int()` returns zero, this means the default zero is zero."
   ]
  },
  {
   "cell_type": "markdown",
   "metadata": {},
   "source": [
    "Drop in `defaultdict(list)` and now the same code *groups* words by their length."
   ]
  },
  {
   "cell_type": "markdown",
   "metadata": {},
   "source": [
    "## Also from `collections`:\n",
    "\n",
    "* `OrderedDict` : Dictionary which remembers order in which keys were added, uses this order for iteration\n",
    "* `deque` : Like a list, but removing the first element is **not** an expensive operation"
   ]
  },
  {
   "cell_type": "markdown",
   "metadata": {},
   "source": [
    "---\n",
    "# Gems from the `itertools` module"
   ]
  },
  {
   "cell_type": "markdown",
   "metadata": {},
   "source": [
    "## built-in, but related: `zip`"
   ]
  },
  {
   "cell_type": "code",
   "execution_count": null,
   "metadata": {
    "collapsed": false
   },
   "outputs": [],
   "source": [
    "L = [1,   2,   3,   5,  8, 13 ]\n",
    "M = ['a', 'b', 'c', 'd']\n",
    "N = ['foo','bar']\n",
    "for l,m,n in zip(L,M,N):\n",
    "    print(l,'-',m,'-',n)"
   ]
  },
  {
   "cell_type": "markdown",
   "metadata": {},
   "source": [
    "## `groupby`\n",
    "\n",
    "Take an iterator, return iterators over longest runs in which some quantity is constant"
   ]
  },
  {
   "cell_type": "code",
   "execution_count": null,
   "metadata": {
    "collapsed": false,
    "scrolled": false
   },
   "outputs": [],
   "source": [
    "from itertools import groupby\n",
    "\n",
    "L = ['Mathematical','science','is','in','my',\n",
    "     'opinion','an','indivisible','whole']\n",
    "for l,words in groupby(L,len):\n",
    "    print('Found a run of words of length',l,':',list(words))"
   ]
  },
  {
   "cell_type": "markdown",
   "metadata": {},
   "source": [
    "## permutations"
   ]
  },
  {
   "cell_type": "code",
   "execution_count": null,
   "metadata": {
    "collapsed": false
   },
   "outputs": [],
   "source": [
    "from itertools import permutations\n",
    "\n",
    "L = [1,2,3,4]\n",
    "list(permutations(L))"
   ]
  },
  {
   "cell_type": "code",
   "execution_count": null,
   "metadata": {
    "collapsed": false
   },
   "outputs": [],
   "source": [
    "L = [1,2,3,4]\n",
    "list(permutations(L,2))"
   ]
  },
  {
   "cell_type": "markdown",
   "metadata": {},
   "source": [
    "## combinations"
   ]
  },
  {
   "cell_type": "code",
   "execution_count": null,
   "metadata": {
    "collapsed": false
   },
   "outputs": [],
   "source": [
    "from itertools import combinations\n",
    "\n",
    "L = [1,2,3,4]\n",
    "list(combinations(L,2))"
   ]
  },
  {
   "cell_type": "markdown",
   "metadata": {},
   "source": [
    "# Useful decorators\n",
    "\n",
    "Modify a function's behavior.  (They are functions that map functions to functions.)"
   ]
  },
  {
   "cell_type": "markdown",
   "metadata": {},
   "source": [
    "## `functools.lru_cache`"
   ]
  },
  {
   "cell_type": "markdown",
   "metadata": {},
   "source": [
    "Suppose you have a function which is expensive, but which will be called many times with the same arguments."
   ]
  },
  {
   "cell_type": "code",
   "execution_count": null,
   "metadata": {
    "collapsed": true
   },
   "outputs": [],
   "source": [
    "# Simple\n",
    "def long_running(n):\n",
    "    # expensive computation\n",
    "    return result"
   ]
  },
  {
   "cell_type": "code",
   "execution_count": null,
   "metadata": {
    "collapsed": true
   },
   "outputs": [],
   "source": [
    "# Better, use caching\n",
    "def long_running(n,cache={}):\n",
    "    if n in cache:\n",
    "        return cache[n]\n",
    "    else:\n",
    "        # expensive computation\n",
    "        cache[n] = result\n",
    "        return result"
   ]
  },
  {
   "cell_type": "code",
   "execution_count": null,
   "metadata": {
    "collapsed": false
   },
   "outputs": [],
   "source": [
    "# Cleaner and imposes size limits\n",
    "from functools import lru_cache\n",
    "\n",
    "@lru_cache(maxsize=128)\n",
    "def long_running(n):\n",
    "    # expensive computation\n",
    "    return result\n",
    "\n",
    "long_running(123)  # Will take a long time\n",
    "long_running(123)  # Will return instantly"
   ]
  },
  {
   "cell_type": "markdown",
   "metadata": {},
   "source": [
    "## Others (OO)\n",
    "* `staticmethod` : method with no \"self\"; can treat a class as a \"bag of functions\"\n",
    "* `classmethod` : method that gets class (not instance) as first parameter; useful for alternate constructors\n",
    "* `property` : zero-parameter method turns into a computed attribute, i.e. `A.foo` instead of `A.foo()`"
   ]
  },
  {
   "cell_type": "markdown",
   "metadata": {},
   "source": [
    "# Use keyword arguments for clarity"
   ]
  },
  {
   "cell_type": "code",
   "execution_count": null,
   "metadata": {
    "collapsed": true
   },
   "outputs": [],
   "source": [
    "move_data('asd.dat','jkl.dat',True)\n",
    "# Moved... where?  What's the source?  And what is \"True\" for?\n",
    "# Did I just overwrite my priceless data?"
   ]
  },
  {
   "cell_type": "code",
   "execution_count": null,
   "metadata": {
    "collapsed": true
   },
   "outputs": [],
   "source": [
    "move_data(source='asd.dat',dest='jkl.dat',overwrite_existing=True)"
   ]
  },
  {
   "cell_type": "markdown",
   "metadata": {},
   "source": [
    "# Use context managers for file I/O\n",
    "\n",
    "The file is closed on exit from the with-block (e.g. normally or by exception)"
   ]
  },
  {
   "cell_type": "code",
   "execution_count": null,
   "metadata": {
    "collapsed": true
   },
   "outputs": [],
   "source": [
    "with open('out.txt','wt') as outfile:\n",
    "    outfile.write('First line\\n')\n",
    "    risky_operation()  # possible exception terminates program?\n",
    "    outfile.write('Possible second line\\n')"
   ]
  },
  {
   "cell_type": "markdown",
   "metadata": {},
   "source": [
    "# Error suppression context manager\n",
    "\n",
    "Possibly more readable than a bunch of try...except pass blocks"
   ]
  },
  {
   "cell_type": "code",
   "execution_count": null,
   "metadata": {
    "collapsed": true
   },
   "outputs": [],
   "source": [
    "from contextlib import suppress\n",
    "import os\n",
    "\n",
    "with suppress(FileNotFoundError):\n",
    "    os.remove('does_not_exist.dat')"
   ]
  },
  {
   "cell_type": "markdown",
   "metadata": {},
   "source": [
    "# Assertions\n",
    "\n",
    "Not very popular in the Python community, but can be useful for debugging.  Assertion checking can be disabled with the '-O' command-line parameter."
   ]
  },
  {
   "cell_type": "code",
   "execution_count": null,
   "metadata": {
    "collapsed": false
   },
   "outputs": [],
   "source": [
    "assert True, 'no problem'\n",
    "assert False, 'big problem'"
   ]
  },
  {
   "cell_type": "markdown",
   "metadata": {},
   "source": [
    "Assertions should be reserved for statements that will be true unless a contract has been broken, so that it would not make sense to continue.  Assertions are not for catching routine errors."
   ]
  },
  {
   "cell_type": "code",
   "execution_count": null,
   "metadata": {
    "collapsed": true
   },
   "outputs": [],
   "source": [
    "def handle_everything():\n",
    "    queue = get_work_queue()\n",
    "    queue.process_all_events()\n",
    "    assert queue.is_empty(), 'Queue not empty after process_all_events()\"\n",
    "    cleanup()"
   ]
  },
  {
   "cell_type": "markdown",
   "metadata": {},
   "source": [
    "* If the condition shows that an error has occurred, raise an exception\n",
    "* If the condition shows that a bug is present, *maybe* check it with an assertion"
   ]
  },
  {
   "cell_type": "markdown",
   "metadata": {
    "collapsed": true
   },
   "source": [
    "# New-style string formatting"
   ]
  },
  {
   "cell_type": "code",
   "execution_count": null,
   "metadata": {
    "collapsed": false
   },
   "outputs": [],
   "source": [
    "# OLD printf style\n",
    "'%s runs %d %s projects every semester' % ('MCL',4,'amazing')"
   ]
  },
  {
   "cell_type": "code",
   "execution_count": null,
   "metadata": {
    "collapsed": false
   },
   "outputs": [],
   "source": [
    "# new style\n",
    "'{} runs {} {} projects every semester'.format('MCL',4,'amazing')"
   ]
  },
  {
   "cell_type": "code",
   "execution_count": null,
   "metadata": {
    "collapsed": false
   },
   "outputs": [],
   "source": [
    "# new style, positional indices\n",
    "'{0} runs {2} {1} projects every semester'.format('MCL','amazing',4)"
   ]
  },
  {
   "cell_type": "code",
   "execution_count": null,
   "metadata": {
    "collapsed": false
   },
   "outputs": [],
   "source": [
    "# new style, named fields\n",
    "'{lab} runs {number} {adjective} projects every semester'.format(lab='MCL',number=4,adjective='amazing')"
   ]
  },
  {
   "cell_type": "code",
   "execution_count": null,
   "metadata": {
    "collapsed": false
   },
   "outputs": [],
   "source": [
    "# new style, fields from dict\n",
    "d = {'lab': 'MCL', 'number': 4, 'adjective': 'amazing'}\n",
    "'{lab} runs {number} {adjective} projects every semester'.format(**d)"
   ]
  }
 ],
 "metadata": {
  "kernelspec": {
   "display_name": "Anaconda (Python 3)",
   "language": "python",
   "name": "anaconda3"
  },
  "language_info": {
   "codemirror_mode": {
    "name": "ipython",
    "version": 3
   },
   "file_extension": ".py",
   "mimetype": "text/x-python",
   "name": "python",
   "nbconvert_exporter": "python",
   "pygments_lexer": "ipython3",
   "version": "3.5.1"
  },
  "name": "Python tips and tricks.ipynb"
 },
 "nbformat": 4,
 "nbformat_minor": 0
}
